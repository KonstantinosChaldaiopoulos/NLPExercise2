{
  "nbformat": 4,
  "nbformat_minor": 0,
  "metadata": {
    "colab": {
      "provenance": []
    },
    "kernelspec": {
      "name": "python3",
      "display_name": "Python 3"
    },
    "language_info": {
      "name": "python"
    },
    "gpuClass": "standard"
  },
  "cells": [
    {
      "cell_type": "code",
      "source": [
        "import pandas as pd\n",
        "import requests\n",
        "from io import StringIO\n",
        "from sklearn.feature_extraction.text import TfidfVectorizer\n",
        "from sklearn.naive_bayes import MultinomialNB\n",
        "from sklearn.metrics import classification_report, accuracy_score\n",
        "from sklearn.svm import SVC\n",
        "from sklearn.svm import LinearSVC\n",
        "import time"
      ],
      "metadata": {
        "id": "hHQUDpNE5niD"
      },
      "execution_count": null,
      "outputs": []
    },
    {
      "cell_type": "code",
      "source": [
        "from google.colab import drive\n",
        "drive.mount('/content/drive')"
      ],
      "metadata": {
        "id": "DKx-1KO8et1J"
      },
      "execution_count": null,
      "outputs": []
    },
    {
      "cell_type": "code",
      "source": [
        "def read_csv_from_drive(file_path):\n",
        "    return pd.read_csv(file_path, header=None, names=[\"class\", \"title\", \"description\"])\n",
        "\n",
        "train_file_path = \"/content/drive/MyDrive/train.csv\"\n",
        "test_file_path = \"/content/drive/MyDrive/test.csv\"\n",
        "\n",
        "train_df = read_csv_from_drive(train_file_path)\n",
        "test_df = read_csv_from_drive(test_file_path)\n",
        "\n",
        "\n",
        "train_df = train_df.apply(lambda x: x.astype(str).str.lower())\n",
        "\n",
        "\n",
        "test_df = test_df.apply(lambda x: x.astype(str).str.lower())\n",
        "\n",
        "train_df = train_df[train_df['class'] != 'class index']\n",
        "test_df = test_df[test_df['class'] != 'class index']\n",
        "\n",
        "\n",
        "\n",
        "train_df[\"text\"] = (train_df[\"title\"] + \" \" + train_df[\"description\"])\n",
        "test_df[\"text\"] = (test_df[\"title\"] + \" \" + test_df[\"description\"])\n",
        "\n",
        "\n",
        "X_train = train_df[\"text\"]\n",
        "y_train = train_df[\"class\"]\n",
        "X_test = test_df[\"text\"]\n",
        "y_test = test_df[\"class\"]\n"
      ],
      "metadata": {
        "id": "3DUmjq-TgGFa"
      },
      "execution_count": null,
      "outputs": []
    },
    {
      "cell_type": "code",
      "source": [
        "start_time = time.time()\n",
        "# Unigram model\n",
        "vectorizer = TfidfVectorizer(ngram_range=(1,1))\n",
        "X_train_tfidf = vectorizer.fit_transform(X_train)\n",
        "X_test_tfidf1 = vectorizer.transform(X_test)\n",
        "\n",
        "# Multinomial Naïve Bayes model\n",
        "clf1 = MultinomialNB()\n",
        "clf1.fit(X_train_tfidf, y_train)\n",
        "\n",
        "y_pred1 = clf1.predict(X_test_tfidf1)\n",
        "\n",
        "end_time = time.time()\n",
        "\n",
        "\n",
        "names = vectorizer.get_feature_names_out()\n",
        "dim1 = len(names)\n",
        "execution_time1 = end_time - start_time\n",
        "\n",
        "accuracy1=accuracy_score(y_test, y_pred1)\n",
        "print(\"Dimensionality:\",dim1)\n",
        "print(\"\\nAccuracy:\\n\", accuracy1)\n",
        "print(\"\\nClassification Report:\\n\", classification_report(y_test, y_pred1))\n"
      ],
      "metadata": {
        "colab": {
          "base_uri": "https://localhost:8080/"
        },
        "id": "_lNAqrRrrS6_",
        "outputId": "aecdecb4-4591-40b8-b013-bf454c0d8e2a"
      },
      "execution_count": null,
      "outputs": [
        {
          "output_type": "stream",
          "name": "stdout",
          "text": [
            "Dimensionality: 64999\n",
            "\n",
            "Accuracy:\n",
            " 0.9022368421052631\n",
            "\n",
            "Classification Report:\n",
            "               precision    recall  f1-score   support\n",
            "\n",
            "           1       0.91      0.89      0.90      1900\n",
            "           2       0.95      0.98      0.96      1900\n",
            "           3       0.87      0.86      0.86      1900\n",
            "           4       0.88      0.88      0.88      1900\n",
            "\n",
            "    accuracy                           0.90      7600\n",
            "   macro avg       0.90      0.90      0.90      7600\n",
            "weighted avg       0.90      0.90      0.90      7600\n",
            "\n"
          ]
        }
      ]
    },
    {
      "cell_type": "code",
      "source": [
        "start_time = time.time()\n",
        "# Trigram-character model\n",
        "vectorizer = TfidfVectorizer(ngram_range=(3,3), analyzer='char')\n",
        "X_train_tfidf = vectorizer.fit_transform(X_train)\n",
        "X_test_tfidf3 = vectorizer.transform(X_test)\n",
        "\n",
        "# Multinomial Naïve Bayes model\n",
        "clf2 = MultinomialNB()\n",
        "clf2.fit(X_train_tfidf, y_train)\n",
        "\n",
        "\n",
        "y_pred2 = clf2.predict(X_test_tfidf3)\n",
        "\n",
        "end_time = time.time()\n",
        "\n",
        "\n",
        "names = vectorizer.get_feature_names_out()\n",
        "dim2 = len(names)\n",
        "execution_time2 = end_time - start_time\n",
        "\n",
        "\n",
        "accuracy2=accuracy_score(y_test, y_pred2)\n",
        "print(\"Dimensionality:\",dim2)\n",
        "print(\"\\nAccuracy:\\n\", accuracy2)\n",
        "print(\"\\nClassification Report:\\n\", classification_report(y_test, y_pred2))"
      ],
      "metadata": {
        "colab": {
          "base_uri": "https://localhost:8080/"
        },
        "id": "EdqkgMFBr9ep",
        "outputId": "ebbbfb1f-ad9b-49f4-c89a-3fe85ac1a647"
      },
      "execution_count": null,
      "outputs": [
        {
          "output_type": "stream",
          "name": "stdout",
          "text": [
            "Dimensionality: 31074\n",
            "\n",
            "Accuracy:\n",
            " 0.8686842105263158\n",
            "\n",
            "Classification Report:\n",
            "               precision    recall  f1-score   support\n",
            "\n",
            "           1       0.87      0.89      0.88      1900\n",
            "           2       0.90      0.96      0.93      1900\n",
            "           3       0.86      0.79      0.82      1900\n",
            "           4       0.84      0.84      0.84      1900\n",
            "\n",
            "    accuracy                           0.87      7600\n",
            "   macro avg       0.87      0.87      0.87      7600\n",
            "weighted avg       0.87      0.87      0.87      7600\n",
            "\n"
          ]
        }
      ]
    },
    {
      "cell_type": "code",
      "source": [
        "start_time=time.time()\n",
        "\n",
        "# Unigram model\n",
        "vectorizer = TfidfVectorizer(ngram_range=(1,1))\n",
        "X_train_tfidf = vectorizer.fit_transform(X_train)\n",
        "X_test_tfidf1 = vectorizer.transform(X_test)\n",
        "\n",
        "# Support Vector Machine (SVM) model with linear kernel and C=1\n",
        "clf3 = LinearSVC(C=1)\n",
        "clf3.fit(X_train_tfidf, y_train)\n",
        "\n",
        "y_pred3 = clf3.predict(X_test_tfidf1)\n",
        "\n",
        "end_time = time.time()\n",
        "\n",
        "names = vectorizer.get_feature_names_out()\n",
        "dim3 = len(names)\n",
        "execution_time3 = end_time - start_time\n",
        "\n",
        "\n",
        "accuracy3=accuracy_score(y_test, y_pred3)\n",
        "print(\"Dimensionality:\",dim3)\n",
        "print(\"\\nAccuracy:\\n\", accuracy3)\n",
        "print(\"\\nClassification Report:\\n\", classification_report(y_test, y_pred3))"
      ],
      "metadata": {
        "colab": {
          "base_uri": "https://localhost:8080/"
        },
        "id": "yFSBTeef5T2w",
        "outputId": "456a6033-7d6b-4d32-91e3-65c9b3f683b3"
      },
      "execution_count": null,
      "outputs": [
        {
          "output_type": "stream",
          "name": "stdout",
          "text": [
            "Dimensionality: 64999\n",
            "\n",
            "Accuracy:\n",
            " 0.9196052631578947\n",
            "\n",
            "Classification Report:\n",
            "               precision    recall  f1-score   support\n",
            "\n",
            "           1       0.93      0.90      0.92      1900\n",
            "           2       0.96      0.98      0.97      1900\n",
            "           3       0.89      0.89      0.89      1900\n",
            "           4       0.90      0.90      0.90      1900\n",
            "\n",
            "    accuracy                           0.92      7600\n",
            "   macro avg       0.92      0.92      0.92      7600\n",
            "weighted avg       0.92      0.92      0.92      7600\n",
            "\n"
          ]
        }
      ]
    },
    {
      "cell_type": "code",
      "source": [
        "start_time = time.time()\n",
        "\n",
        "# Trigram-character model\n",
        "vectorizer = TfidfVectorizer(ngram_range=(3,3), analyzer='char')\n",
        "X_train_tfidf = vectorizer.fit_transform(X_train)\n",
        "X_test_tfidf3 = vectorizer.transform(X_test)\n",
        "\n",
        "# Support Vector Machine (SVM) model with linear kernel and C=1\n",
        "clf4 = LinearSVC(C=1)\n",
        "clf4.fit(X_train_tfidf, y_train)\n",
        "\n",
        "y_pred4 = clf4.predict(X_test_tfidf3)\n",
        "\n",
        "end_time = time.time()\n",
        "\n",
        "\n",
        "names = vectorizer.get_feature_names_out()\n",
        "dim4 = len(names)\n",
        "execution_time4 = end_time - start_time\n",
        "\n",
        "accuracy4=accuracy_score(y_test, y_pred4)\n",
        "print(\"Dimensionality:\",dim4)\n",
        "print(\"\\nAccuracy:\\n\", accuracy4)\n",
        "print(\"\\nClassification Report:\\n\", classification_report(y_test, y_pred4))"
      ],
      "metadata": {
        "colab": {
          "base_uri": "https://localhost:8080/"
        },
        "id": "mkQIHO2_6AUG",
        "outputId": "a97ae8ef-3524-4659-f50b-2af2052ea3dd"
      },
      "execution_count": null,
      "outputs": [
        {
          "output_type": "stream",
          "name": "stdout",
          "text": [
            "Dimensionality: 31074\n",
            "\n",
            "Accuracy:\n",
            " 0.9121052631578948\n",
            "\n",
            "Classification Report:\n",
            "               precision    recall  f1-score   support\n",
            "\n",
            "           1       0.93      0.91      0.92      1900\n",
            "           2       0.95      0.97      0.96      1900\n",
            "           3       0.88      0.88      0.88      1900\n",
            "           4       0.89      0.89      0.89      1900\n",
            "\n",
            "    accuracy                           0.91      7600\n",
            "   macro avg       0.91      0.91      0.91      7600\n",
            "weighted avg       0.91      0.91      0.91      7600\n",
            "\n"
          ]
        }
      ]
    },
    {
      "cell_type": "code",
      "source": [
        "import pandas as pd\n",
        "\n",
        "def format_values(value):\n",
        "    if isinstance(value, float):\n",
        "        if value.is_integer():\n",
        "            return f\"{int(value):,}\"\n",
        "        else:\n",
        "            return f\"{value:.3f}\"\n",
        "    return value\n",
        "\n",
        "\n",
        "\n",
        "data = {\n",
        "    \"ΝΒ (word 1-grams)\": [accuracy1, dim1, execution_time1],\n",
        "    \"NB (char 3-grams)\": [accuracy2, dim2, execution_time2],\n",
        "    \"SVM (word 1-grams)\": [accuracy3, dim3, execution_time3],\n",
        "    \"SVM (char 3-grams)\": [accuracy4, dim4, execution_time4],\n",
        "}\n",
        "\n",
        "index = [\"Accuracy (%)\", \"Dimensionality\", \"Time cost (s)\"]\n",
        "\n",
        "df = pd.DataFrame(data, index=index)\n",
        "\n",
        "df = df.applymap(format_values)\n",
        "\n",
        "df = df.style \\\n",
        "    .set_properties(**{'font-weight': 'bold', 'border': '2px solid black'}) \\\n",
        "    .set_table_styles([dict(selector='th', props=[('font-weight', 'bold'), ('border', '1px solid black')])])\n",
        "\n",
        "\n",
        "display(df)"
      ],
      "metadata": {
        "colab": {
          "base_uri": "https://localhost:8080/",
          "height": 150
        },
        "id": "I6L0EUVzbis2",
        "outputId": "fdf67a30-bcd7-4189-f2d7-e407dacf0c34"
      },
      "execution_count": null,
      "outputs": [
        {
          "output_type": "display_data",
          "data": {
            "text/plain": [
              "<pandas.io.formats.style.Styler at 0x7f775406aee0>"
            ],
            "text/html": [
              "<style type=\"text/css\">\n",
              "#T_08ba4 th {\n",
              "  font-weight: bold;\n",
              "  border: 1px solid black;\n",
              "}\n",
              "#T_08ba4_row0_col0, #T_08ba4_row0_col1, #T_08ba4_row0_col2, #T_08ba4_row0_col3, #T_08ba4_row1_col0, #T_08ba4_row1_col1, #T_08ba4_row1_col2, #T_08ba4_row1_col3, #T_08ba4_row2_col0, #T_08ba4_row2_col1, #T_08ba4_row2_col2, #T_08ba4_row2_col3 {\n",
              "  font-weight: bold;\n",
              "  border: 2px solid black;\n",
              "}\n",
              "</style>\n",
              "<table id=\"T_08ba4\" class=\"dataframe\">\n",
              "  <thead>\n",
              "    <tr>\n",
              "      <th class=\"blank level0\" >&nbsp;</th>\n",
              "      <th id=\"T_08ba4_level0_col0\" class=\"col_heading level0 col0\" >ΝΒ (word 1-grams)</th>\n",
              "      <th id=\"T_08ba4_level0_col1\" class=\"col_heading level0 col1\" >NB (char 3-grams)</th>\n",
              "      <th id=\"T_08ba4_level0_col2\" class=\"col_heading level0 col2\" >SVM (word 1-grams)</th>\n",
              "      <th id=\"T_08ba4_level0_col3\" class=\"col_heading level0 col3\" >SVM (char 3-grams)</th>\n",
              "    </tr>\n",
              "  </thead>\n",
              "  <tbody>\n",
              "    <tr>\n",
              "      <th id=\"T_08ba4_level0_row0\" class=\"row_heading level0 row0\" >Accuracy (%)</th>\n",
              "      <td id=\"T_08ba4_row0_col0\" class=\"data row0 col0\" >0.902</td>\n",
              "      <td id=\"T_08ba4_row0_col1\" class=\"data row0 col1\" >0.869</td>\n",
              "      <td id=\"T_08ba4_row0_col2\" class=\"data row0 col2\" >0.920</td>\n",
              "      <td id=\"T_08ba4_row0_col3\" class=\"data row0 col3\" >0.912</td>\n",
              "    </tr>\n",
              "    <tr>\n",
              "      <th id=\"T_08ba4_level0_row1\" class=\"row_heading level0 row1\" >Dimensionality</th>\n",
              "      <td id=\"T_08ba4_row1_col0\" class=\"data row1 col0\" >64,999</td>\n",
              "      <td id=\"T_08ba4_row1_col1\" class=\"data row1 col1\" >31,074</td>\n",
              "      <td id=\"T_08ba4_row1_col2\" class=\"data row1 col2\" >64,999</td>\n",
              "      <td id=\"T_08ba4_row1_col3\" class=\"data row1 col3\" >31,074</td>\n",
              "    </tr>\n",
              "    <tr>\n",
              "      <th id=\"T_08ba4_level0_row2\" class=\"row_heading level0 row2\" >Time cost (s)</th>\n",
              "      <td id=\"T_08ba4_row2_col0\" class=\"data row2 col0\" >6.191</td>\n",
              "      <td id=\"T_08ba4_row2_col1\" class=\"data row2 col1\" >22.452</td>\n",
              "      <td id=\"T_08ba4_row2_col2\" class=\"data row2 col2\" >12.013</td>\n",
              "      <td id=\"T_08ba4_row2_col3\" class=\"data row2 col3\" >37.741</td>\n",
              "    </tr>\n",
              "  </tbody>\n",
              "</table>\n"
            ]
          },
          "metadata": {}
        }
      ]
    },
    {
      "cell_type": "code",
      "source": [
        "\n",
        "predictions = list(zip(y_pred1, y_pred2, y_pred3, y_pred4))\n",
        "\n",
        "\n",
        "misclassified_indices = []\n",
        "for i, (pred1, pred2, pred3, pred4) in enumerate(predictions):\n",
        "    if (pred1 != y_test.iloc[i]) and (pred2 != y_test.iloc[i]) and (pred3 != y_test.iloc[i]) and (pred4 != y_test.iloc[i]):\n",
        "        misclassified_indices.append(i)\n",
        "\n",
        "misclassified_counts = {category: 0 for category in y_test.unique()}\n",
        "\n",
        "# Find the most frequent pair of correct category and wrong prediction\n",
        "pair_counts = {}\n",
        "\n",
        "for idx in misclassified_indices:\n",
        "    correct_category = y_test.iloc[idx]\n",
        "    misclassified_counts[correct_category] += 1\n",
        "\n",
        "    pair = (correct_category, y_pred1[idx])  \n",
        "\n",
        "    if pair in pair_counts:\n",
        "        pair_counts[pair] += 1\n",
        "    else:\n",
        "        pair_counts[pair] = 1\n",
        "\n",
        "label_to_category = {\n",
        "    \"1\": \"1:World\",\n",
        "    \"2\": \"2:Sports\",\n",
        "    \"3\": \"3:Business\",\n",
        "    \"4\": \"4:Sci/Tech\",\n",
        "}\n",
        "\n",
        "\n",
        "misclassified_index = misclassified_indices[10]\n",
        "\n",
        "misclassified_text = X_test.iloc[misclassified_index]\n",
        "\n",
        "correct_category = y_test.iloc[misclassified_index]\n",
        "predicted_category = y_pred1[misclassified_index]\n",
        "\n",
        "\n",
        "print(f\"Misclassified Text (Index: {misclassified_index}):\")\n",
        "print(misclassified_text)\n",
        "print(f\"\\nShould have been classified as: {label_to_category[correct_category]}\")\n",
        "print(f\"\\nWas classified as: {label_to_category[predicted_category]}\\n\")\n",
        "\n",
        "\n",
        "for category in sorted(misclassified_counts.keys()):\n",
        "    category_name = label_to_category[category]\n",
        "    count = misclassified_counts[category]\n",
        "    print(f\"{category_name}: {count} samples\")\n",
        "\n",
        "most_frequent_pair = max(pair_counts, key=pair_counts.get)\n",
        "print(\"\\nThe most frequent pair of correct category and wrong prediction:\")\n",
        "print(f\"Correct category: {most_frequent_pair[0]}, Wrong prediction: {most_frequent_pair[1]}, Occurrences: {pair_counts[most_frequent_pair]}\")"
      ],
      "metadata": {
        "colab": {
          "base_uri": "https://localhost:8080/"
        },
        "id": "lB0YgbGS3AR7",
        "outputId": "3f4e70c9-5c47-41c1-f206-29eb849f6e7b"
      },
      "execution_count": null,
      "outputs": [
        {
          "output_type": "stream",
          "name": "stdout",
          "text": [
            "Misclassified Text (Index: 215):\n",
            "hurricane center #39;s projection on charley not far off, data show fort lauderdale, fla. - (krt) - despite criticism that it should have better anticipated hurricane charley #39;s rapid intensification and quick turn, the national hurricane center #39;s forecast wasn #39;t that far off, a preliminary post-mortem shows. \n",
            "\n",
            "Should have been classified as: 4:Sci/Tech\n",
            "\n",
            "Was classified as: 3:Business\n",
            "\n",
            "1:World: 112 samples\n",
            "2:Sports: 9 samples\n",
            "3:Business: 135 samples\n",
            "4:Sci/Tech: 85 samples\n",
            "\n",
            "The most frequent pair of correct category and wrong prediction:\n",
            "Correct category: 3, Wrong prediction: 4, Occurrences: 97\n"
          ]
        }
      ]
    }
  ]
}
